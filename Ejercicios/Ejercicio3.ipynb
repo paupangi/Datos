{
  "nbformat": 4,
  "nbformat_minor": 0,
  "metadata": {
    "colab": {
      "provenance": []
    },
    "kernelspec": {
      "name": "python3",
      "display_name": "Python 3"
    },
    "language_info": {
      "name": "python"
    }
  },
  "cells": [
    {
      "cell_type": "markdown",
      "source": [
        "**Ejercicio 3:**\n",
        "\n",
        "i. Reproducir la matriz B:\n",
        "\n",
        "[[0.4 0.41 0.42 0.43 0.44]  \\\\\n",
        "[0.45 0.46 0.47 0.48 0.49] \\\\\n",
        "[0.5 0.51 0.52 0.53 0.54] \\\\\n",
        "[0.55 0.56 0.57 0.58 0.59] \\\\\n",
        "[0.6 0.61 0.62 0.63 0.64] \\\\\n",
        "[0.65 0.66 0.67 0.68 0.69] \\\\\n",
        "[0.7 0.71 0.72 0.73 0.74] \\\\\n",
        "[0.75 0.76 0.77 0.78 0.79]]\n",
        "\n",
        "ii. Unir B con el resultado del ejercicio anterior \\\\\n",
        "2.ii para obtener una matriz de 8 lineas y 13 columnas.\n",
        "\n",
        "iii. Agregar una linea al final con el promedio de cada columna\n",
        "\n",
        "iv. Agregar una columna al final con el valor maximo de cada fila\n",
        "\n",
        "v. Guardar en un archivo."
      ],
      "metadata": {
        "id": "dklahY726dpf"
      }
    },
    {
      "cell_type": "code",
      "source": [
        "import numpy as np\n",
        "a = np.array(np.arange(1,65)).reshape([8,8])\n",
        "A = a.T\n",
        "A[A % 10 == 3] = -99\n",
        "A\n",
        "from numpy.core.fromnumeric import reshape\n",
        "B = np.arange(0.4, 0.80, 0.01).reshape(8,5)\n",
        "B\n",
        "C = np.concatenate((A, B), axis = 1).reshape(8,13)\n",
        "M = np.mean(C, axis = 0)\n",
        "M\n",
        "C1 = np.append(C, [M], axis=0)\n",
        "C1\n",
        "m = np.max(C1, axis = 1)\n",
        "C2 = np.concatenate((C1, m.reshape(9,1)), axis = 1)\n",
        "C2\n",
        "np.savetxt('Ejercicio3', C2, delimiter=',')"
      ],
      "metadata": {
        "id": "Go3tm-7163Jl"
      },
      "execution_count": 51,
      "outputs": []
    }
  ]
}