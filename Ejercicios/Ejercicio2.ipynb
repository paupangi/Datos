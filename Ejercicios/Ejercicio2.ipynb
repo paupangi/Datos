{
  "nbformat": 4,
  "nbformat_minor": 0,
  "metadata": {
    "colab": {
      "provenance": []
    },
    "kernelspec": {
      "name": "python3",
      "display_name": "Python 3"
    },
    "language_info": {
      "name": "python"
    }
  },
  "cells": [
    {
      "cell_type": "markdown",
      "source": [
        "i. Hacer una matriz de 8 x 8 con numeros enteros consecutivos empezando en 1. Llenado por columnas.\n",
        "\n",
        "ii. reemplazar los elementos que tengan al menos un 3 por -99."
      ],
      "metadata": {
        "id": "4O2j-wZHj_Zd"
      }
    },
    {
      "cell_type": "code",
      "execution_count": 2,
      "metadata": {
        "colab": {
          "base_uri": "https://localhost:8080/"
        },
        "id": "LZFnjX6Gj94w",
        "outputId": "603b4200-c42e-447b-bb6d-12c4e6aac33a"
      },
      "outputs": [
        {
          "output_type": "execute_result",
          "data": {
            "text/plain": [
              "array([[  1,   9,  17,  25, -99,  41,  49,  57],\n",
              "       [  2,  10,  18,  26,  34,  42,  50,  58],\n",
              "       [-99,  11,  19,  27,  35, -99,  51,  59],\n",
              "       [  4,  12,  20,  28,  36,  44,  52,  60],\n",
              "       [  5, -99,  21,  29,  37,  45, -99,  61],\n",
              "       [  6,  14,  22,  30,  38,  46,  54,  62],\n",
              "       [  7,  15, -99,  31,  39,  47,  55, -99],\n",
              "       [  8,  16,  24,  32,  40,  48,  56,  64]])"
            ]
          },
          "metadata": {},
          "execution_count": 2
        }
      ],
      "source": [
        "import numpy as np\n",
        "a = np.array(np.arange(1,65)).reshape([8,8])\n",
        "A = a.T\n",
        "A[A % 10 == 3] = -99\n",
        "A"
      ]
    }
  ]
}